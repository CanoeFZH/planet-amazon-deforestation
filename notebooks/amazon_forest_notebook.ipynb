{
 "cells": [
  {
   "cell_type": "markdown",
   "metadata": {},
   "source": [
    "# Planet: Understanding the Amazon deforestation from Space challenge"
   ]
  },
  {
   "cell_type": "markdown",
   "metadata": {},
   "source": [
    "Special thanks to the kernel contributors of this challenge (especially @anokas and @Kaggoo) who helped me find a starting point for this notebook.\n",
    "\n",
    "The whole code including the `data_helper.py` and `keras_helper.py` files are available on github [here](https://github.com/EKami/planet-amazon-deforestation) and the notebook can be found on the same github [here](https://github.com/EKami/planet-amazon-deforestation/blob/master/notebooks/amazon_forest_notebook.ipynb)\n",
    "\n",
    "**If you found this notebook useful some upvotes would be greatly appreciated! :) **"
   ]
  },
  {
   "cell_type": "markdown",
   "metadata": {},
   "source": [
    "Start by adding the helper files to the python path"
   ]
  },
  {
   "cell_type": "code",
   "execution_count": 1,
   "metadata": {
    "collapsed": true
   },
   "outputs": [],
   "source": [
    "import sys\n",
    "\n",
    "sys.path.append('../src')\n",
    "sys.path.append('../tests')"
   ]
  },
  {
   "cell_type": "markdown",
   "metadata": {},
   "source": [
    "## Import required modules"
   ]
  },
  {
   "cell_type": "code",
   "execution_count": 2,
   "metadata": {},
   "outputs": [
    {
     "name": "stderr",
     "output_type": "stream",
     "text": [
      "/Users/Ekami/Programs/anaconda/envs/tensorflow/lib/python3.6/site-packages/IPython/html.py:14: ShimWarning: The `IPython.html` package has been deprecated since IPython 4.0. You should import from `notebook` instead. `IPython.html.widgets` has moved to `ipywidgets`.\n",
      "  \"`IPython.html.widgets` has moved to `ipywidgets`.\", ShimWarning)\n"
     ]
    },
    {
     "ename": "ModuleNotFoundError",
     "evalue": "No module named 'kaggle_data_downloader'",
     "output_type": "error",
     "traceback": [
      "\u001b[0;31m---------------------------------------------------------------------------\u001b[0m",
      "\u001b[0;31mModuleNotFoundError\u001b[0m                       Traceback (most recent call last)",
      "\u001b[0;32m<ipython-input-2-9fdca19b9794>\u001b[0m in \u001b[0;36m<module>\u001b[0;34m()\u001b[0m\n\u001b[1;32m     10\u001b[0m \u001b[0;32mimport\u001b[0m \u001b[0mdata_helper\u001b[0m\u001b[0;34m\u001b[0m\u001b[0m\n\u001b[1;32m     11\u001b[0m \u001b[0;32mfrom\u001b[0m \u001b[0mkeras_helper\u001b[0m \u001b[0;32mimport\u001b[0m \u001b[0mAmazonKerasClassifier\u001b[0m\u001b[0;34m\u001b[0m\u001b[0m\n\u001b[0;32m---> 12\u001b[0;31m \u001b[0;32mfrom\u001b[0m \u001b[0mkaggle_data_downloader\u001b[0m \u001b[0;32mimport\u001b[0m \u001b[0mKaggleDataDownloader\u001b[0m\u001b[0;34m\u001b[0m\u001b[0m\n\u001b[0m\u001b[1;32m     13\u001b[0m \u001b[0;34m\u001b[0m\u001b[0m\n\u001b[1;32m     14\u001b[0m \u001b[0mget_ipython\u001b[0m\u001b[0;34m(\u001b[0m\u001b[0;34m)\u001b[0m\u001b[0;34m.\u001b[0m\u001b[0mmagic\u001b[0m\u001b[0;34m(\u001b[0m\u001b[0;34m'matplotlib inline'\u001b[0m\u001b[0;34m)\u001b[0m\u001b[0;34m\u001b[0m\u001b[0m\n",
      "\u001b[0;31mModuleNotFoundError\u001b[0m: No module named 'kaggle_data_downloader'"
     ]
    }
   ],
   "source": [
    "import os\n",
    "import gc\n",
    "import numpy as np\n",
    "import pandas as pd\n",
    "import seaborn as sns\n",
    "import tensorflow as tf\n",
    "import matplotlib.pyplot as plt\n",
    "import matplotlib.image as mpimg\n",
    "\n",
    "import data_helper\n",
    "from keras_helper import AmazonKerasClassifier\n",
    "from kaggle_data_downloader import KaggleDataDownloader\n",
    "\n",
    "%matplotlib inline\n",
    "%config InlineBackend.figure_format = 'retina'"
   ]
  },
  {
   "cell_type": "markdown",
   "metadata": {},
   "source": [
    "Print tensorflow version for reuse (the Keras module is used directly from the tensorflow framework)"
   ]
  },
  {
   "cell_type": "code",
   "execution_count": null,
   "metadata": {},
   "outputs": [],
   "source": [
    "tf.__version__"
   ]
  },
  {
   "cell_type": "markdown",
   "metadata": {},
   "source": [
    "## Download the competition files\n",
    "Download the dataset files and extract them automatically with the help of [Kaggle data downloader](https://github.com/EKami/kaggle-data-downloader)"
   ]
  },
  {
   "cell_type": "code",
   "execution_count": null,
   "metadata": {
    "collapsed": true
   },
   "outputs": [],
   "source": [
    "competition_name = \"planet-understanding-the-amazon-from-space\"\n",
    "\n",
    "train, train_u = \"train-jpg.tar.7z\", \"train-jpg.tar\"\n",
    "test, test_u = \"test-jpg.tar.7z\", \"test-jpg.tar\"\n",
    "test_additional, test_additional_u = \"test-jpg-additional.tar.7z\", \"test-jpg-additional.tar\"\n",
    "test_labels = \"train_v2.csv.zip\"\n",
    "destination_path = \"input/\"\n",
    "is_datasets_present = True\n",
    "\n",
    "# If the folders already exists then the files may already be extracted\n",
    "# This is a bit hacky but it's sufficient for our needs\n",
    "datasets_path = data_helper.get_jpeg_data_files_paths()\n",
    "for dir_path in datasets_path:\n",
    "    if not os.path.isdir(dir_path):\n",
    "        is_datasets_present = False\n",
    "\n",
    "if not is_datasets_present:\n",
    "    downloader = KaggleDataDownloader(os.getenv(\"KAGGLE_USER\"), os.getenv(\"KAGGLE_PASSWD\"), competition_name)\n",
    "    \n",
    "    train_output_path = downloader.download_dataset(train, destination_path)\n",
    "    downloader.uncompress(train_output_path, destination_path) # Outputs a tar file\n",
    "    downloader.uncompress(destination_path + train_u, destination_path) # Extract the content of the previous tar file\n",
    "    os.remove(train_output_path) # Removes the 7z file\n",
    "    os.remove(destination_path + train_u) # Removes the tar file\n",
    "    \n",
    "    test_output_path = downloader.download_dataset(test, destination_path)\n",
    "    downloader.uncompress(test_output_path, destination_path) # Outputs a tar file\n",
    "    downloader.uncompress(destination_path + test_u, destination_path) # Extract the content of the previous tar file\n",
    "    os.remove(test_output_path) # Removes the 7z file\n",
    "    os.remove(destination_path + test_u) # Removes the tar file\n",
    "    \n",
    "    test_add_output_path = downloader.download_dataset(test_additional, destination_path)\n",
    "    downloader.uncompress(test_add_output_path, destination_path) # Outputs a tar file\n",
    "    downloader.uncompress(destination_path + test_additional_u, destination_path) # Extract the content of the previous tar file\n",
    "    os.remove(test_add_output_path) # Removes the 7z file\n",
    "    os.remove(destination_path + test_additional_u) # Removes the tar file\n",
    "    \n",
    "    test_labels_output_path = downloader.download_dataset(test_labels, destination_path)\n",
    "    downloader.uncompress(test_labels_output_path, destination_path) # Outputs a csv file\n",
    "    os.remove(test_labels_output_path) # Removes the zip file"
   ]
  },
  {
   "cell_type": "markdown",
   "metadata": {},
   "source": [
    "## Inspect image labels\n",
    "Visualize what the training set looks like"
   ]
  },
  {
   "cell_type": "code",
   "execution_count": null,
   "metadata": {},
   "outputs": [],
   "source": [
    "train_jpeg_dir, test_jpeg_dir, test_jpeg_additional, train_csv_file = data_helper.get_jpeg_data_files_paths()\n",
    "labels_df = pd.read_csv(train_csv_file)\n",
    "labels_df.head()"
   ]
  },
  {
   "cell_type": "markdown",
   "metadata": {},
   "source": [
    "Each image can be tagged with multiple tags, lets list all uniques tags"
   ]
  },
  {
   "cell_type": "code",
   "execution_count": null,
   "metadata": {},
   "outputs": [],
   "source": [
    "# Print all unique tags\n",
    "from itertools import chain\n",
    "labels_list = list(chain.from_iterable([tags.split(\" \") for tags in labels_df['tags'].values]))\n",
    "labels_set = set(labels_list)\n",
    "print(\"There is {} unique labels including {}\".format(len(labels_set), labels_set))"
   ]
  },
  {
   "cell_type": "markdown",
   "metadata": {},
   "source": [
    "### Repartition of each labels"
   ]
  },
  {
   "cell_type": "code",
   "execution_count": null,
   "metadata": {},
   "outputs": [],
   "source": [
    "# Histogram of label instances\n",
    "labels_s = pd.Series(labels_list).value_counts() # To sort them by count\n",
    "fig, ax = plt.subplots(figsize=(16, 8))\n",
    "sns.barplot(x=labels_s, y=labels_s.index, orient='h')"
   ]
  },
  {
   "cell_type": "markdown",
   "metadata": {},
   "source": [
    "## Images\n",
    "Visualize some chip images to know what we are dealing with.\n",
    "Lets vizualise 1 chip for the 17 images to get a sense of their differences."
   ]
  },
  {
   "cell_type": "code",
   "execution_count": null,
   "metadata": {
    "scrolled": true
   },
   "outputs": [],
   "source": [
    "images_title = [labels_df[labels_df['tags'].str.contains(label)].iloc[i]['image_name'] + '.jpg' \n",
    "                for i, label in enumerate(labels_set)]\n",
    "\n",
    "plt.rc('axes', grid=False)\n",
    "_, axs = plt.subplots(5, 4, sharex='col', sharey='row', figsize=(15, 20))\n",
    "axs = axs.ravel()\n",
    "\n",
    "for i, (image_name, label) in enumerate(zip(images_title, labels_set)):\n",
    "    img = mpimg.imread(train_jpeg_dir + '/' + image_name)\n",
    "    axs[i].imshow(img)\n",
    "    axs[i].set_title('{} - {}'.format(image_name, label))"
   ]
  },
  {
   "cell_type": "markdown",
   "metadata": {},
   "source": [
    "# Define hyperparameters\n",
    "Define the hyperparameters of our neural network"
   ]
  },
  {
   "cell_type": "code",
   "execution_count": null,
   "metadata": {
    "collapsed": true
   },
   "outputs": [],
   "source": [
    "img_resize = (64, 64) # The resize size of each image\n",
    "validation_split_size = 0.2\n",
    "epochs = 20\n",
    "batch_size = 128"
   ]
  },
  {
   "cell_type": "markdown",
   "metadata": {},
   "source": [
    "# Data preprocessing\n",
    "Preprocess the data in order to fit it into the Keras model.\n",
    "\n",
    "Due to the hudge amount of memory the resulting matrices will take, the preprocessing will be splitted into several steps:\n",
    "    - Preprocess training data (images and labels) and train the neural net with it\n",
    "    - Delete the training data and call the gc to free up memory\n",
    "    - Preprocess the first testing set\n",
    "    - Predict the first testing set labels\n",
    "    - Delete the first testing set\n",
    "    - Preprocess the second testing set\n",
    "    - Predict the second testing set labels and append them to the first testing set\n",
    "    - Delete the second testing set"
   ]
  },
  {
   "cell_type": "code",
   "execution_count": null,
   "metadata": {},
   "outputs": [],
   "source": [
    "x_train, y_train, y_map = data_helper.preprocess_train_data(train_jpeg_dir, train_csv_file, img_resize)\n",
    "# Free up all available memory space after this heavy operation\n",
    "gc.collect();"
   ]
  },
  {
   "cell_type": "code",
   "execution_count": null,
   "metadata": {},
   "outputs": [],
   "source": [
    "print(\"x_train shape: {}\".format(x_train.shape))\n",
    "print(\"y_train shape: {}\".format(y_train.shape))\n",
    "y_map"
   ]
  },
  {
   "cell_type": "markdown",
   "metadata": {},
   "source": [
    "## Create a checkpoint"
   ]
  },
  {
   "cell_type": "markdown",
   "metadata": {},
   "source": [
    "Creating a checkpoint saves the best model weights across all epochs in the training process. This ensures that we will always use only the best weights when making our predictions on the test set rather than using the default which takes the final score from the last epoch. "
   ]
  },
  {
   "cell_type": "code",
   "execution_count": null,
   "metadata": {
    "collapsed": true
   },
   "outputs": [],
   "source": [
    "from keras.callbacks import ModelCheckpoint\n",
    "\n",
    "filepath=\"weights.best.hdf5\"\n",
    "checkpoint = ModelCheckpoint(filepath, monitor='val_acc', verbose=1, save_best_only=True, mode='max')"
   ]
  },
  {
   "cell_type": "markdown",
   "metadata": {},
   "source": [
    "## Create the neural network definition"
   ]
  },
  {
   "cell_type": "code",
   "execution_count": null,
   "metadata": {
    "scrolled": true
   },
   "outputs": [],
   "source": [
    "classifier = AmazonKerasClassifier()\n",
    "classifier.add_conv_layer(img_resize)\n",
    "classifier.add_flatten_layer()\n",
    "classifier.add_ann_layer(len(y_map))\n",
    "train_losses, val_losses, fbeta_score = classifier.train_model(x_train, y_train, epochs, batch_size, validation_split_size=validation_split_size)"
   ]
  },
  {
   "cell_type": "markdown",
   "metadata": {},
   "source": [
    "## Load Best Weights"
   ]
  },
  {
   "cell_type": "code",
   "execution_count": null,
   "metadata": {
    "collapsed": true
   },
   "outputs": [],
   "source": [
    "classifier.load_weights(\"weights.best.hdf5\")\n",
    "print(\"Weights loaded\")"
   ]
  },
  {
   "cell_type": "markdown",
   "metadata": {},
   "source": [
    "## Monitor the results"
   ]
  },
  {
   "cell_type": "markdown",
   "metadata": {},
   "source": [
    "Check that we do not overfit by plotting the losses of the train and validation sets"
   ]
  },
  {
   "cell_type": "code",
   "execution_count": null,
   "metadata": {},
   "outputs": [],
   "source": [
    "plt.plot(train_losses, label='Training loss')\n",
    "plt.plot(val_losses, label='Validation loss')\n",
    "plt.legend();"
   ]
  },
  {
   "cell_type": "markdown",
   "metadata": {},
   "source": [
    "Look at our fbeta_score"
   ]
  },
  {
   "cell_type": "code",
   "execution_count": null,
   "metadata": {},
   "outputs": [],
   "source": [
    "fbeta_score"
   ]
  },
  {
   "cell_type": "markdown",
   "metadata": {},
   "source": [
    "Before launching our predictions lets preprocess the test data and delete the old training data matrices"
   ]
  },
  {
   "cell_type": "code",
   "execution_count": null,
   "metadata": {},
   "outputs": [],
   "source": [
    "del x_train, y_train\n",
    "gc.collect()\n",
    "\n",
    "x_test, x_test_filename = data_helper.preprocess_test_data(test_jpeg_dir, img_resize)\n",
    "# Predict the labels of our x_test images\n",
    "predictions = classifier.predict(x_test)"
   ]
  },
  {
   "cell_type": "markdown",
   "metadata": {},
   "source": [
    "Now lets launch the predictions on the additionnal dataset (updated on 05/05/2017 on Kaggle)"
   ]
  },
  {
   "cell_type": "code",
   "execution_count": null,
   "metadata": {},
   "outputs": [],
   "source": [
    "del x_test\n",
    "gc.collect()\n",
    "\n",
    "x_test, x_test_filename_additional = data_helper.preprocess_test_data(test_jpeg_additional, img_resize)\n",
    "new_predictions = classifier.predict(x_test)\n",
    "\n",
    "del x_test\n",
    "gc.collect()\n",
    "predictions = np.vstack((predictions, new_predictions))\n",
    "x_test_filename = np.hstack((x_test_filename, x_test_filename_additional))\n",
    "print(\"Predictions shape: {}\\nFiles name shape: {}\\n1st predictions entry:\\n{}\".format(predictions.shape, \n",
    "                                                                              x_test_filename.shape,\n",
    "                                                                              predictions[0]))"
   ]
  },
  {
   "cell_type": "markdown",
   "metadata": {},
   "source": [
    "Before mapping our predictions to their appropriate labels we need to figure out what threshold to take for each class.\n",
    "\n",
    "To do so we will take the median value of each classes."
   ]
  },
  {
   "cell_type": "code",
   "execution_count": null,
   "metadata": {},
   "outputs": [],
   "source": [
    "# For now we'll just put all thresholds to 0.2 \n",
    "thresholds = [0.2] * len(labels_set)\n",
    "\n",
    "# TODO complete\n",
    "tags_pred = np.array(predictions).T\n",
    "_, axs = plt.subplots(5, 4, figsize=(15, 20))\n",
    "axs = axs.ravel()\n",
    "\n",
    "for i, tag_vals in enumerate(tags_pred):\n",
    "    sns.boxplot(tag_vals, orient='v', palette='Set2', ax=axs[i]).set_title(y_map[i])"
   ]
  },
  {
   "cell_type": "markdown",
   "metadata": {},
   "source": [
    "Now lets map our predictions to their tags and use the thresholds we just retrieved"
   ]
  },
  {
   "cell_type": "code",
   "execution_count": null,
   "metadata": {
    "collapsed": true
   },
   "outputs": [],
   "source": [
    "predicted_labels = classifier.map_predictions(predictions, y_map, thresholds)"
   ]
  },
  {
   "cell_type": "markdown",
   "metadata": {},
   "source": [
    "Finally lets assemble and visualize our prediction for the test dataset"
   ]
  },
  {
   "cell_type": "code",
   "execution_count": null,
   "metadata": {
    "collapsed": true
   },
   "outputs": [],
   "source": [
    "tags_list = [None] * len(predicted_labels)\n",
    "for i, tags in enumerate(predicted_labels):\n",
    "    tags_list[i] = ' '.join(map(str, tags))\n",
    "\n",
    "final_data = [[filename.split(\".\")[0], tags] for filename, tags in zip(x_test_filename, tags_list)]"
   ]
  },
  {
   "cell_type": "code",
   "execution_count": null,
   "metadata": {},
   "outputs": [],
   "source": [
    "final_df = pd.DataFrame(final_data, columns=['image_name', 'tags'])\n",
    "final_df.head()"
   ]
  },
  {
   "cell_type": "code",
   "execution_count": null,
   "metadata": {},
   "outputs": [],
   "source": [
    "tags_s = pd.Series(list(chain.from_iterable(predicted_labels))).value_counts()\n",
    "fig, ax = plt.subplots(figsize=(16, 8))\n",
    "sns.barplot(x=tags_s, y=tags_s.index, orient='h');"
   ]
  },
  {
   "cell_type": "markdown",
   "metadata": {},
   "source": [
    "If there is a lot of `primary` and `clear` tags, this final dataset may be legit..."
   ]
  },
  {
   "cell_type": "markdown",
   "metadata": {},
   "source": [
    "And save it to a submission file"
   ]
  },
  {
   "cell_type": "code",
   "execution_count": null,
   "metadata": {
    "collapsed": true
   },
   "outputs": [],
   "source": [
    "final_df.to_csv('../submission_file.csv', index=False)\n",
    "classifier.close()"
   ]
  },
  {
   "cell_type": "markdown",
   "metadata": {},
   "source": [
    "That's it, we're done!"
   ]
  }
 ],
 "metadata": {
  "kernelspec": {
   "display_name": "Tensorflow (latest)",
   "language": "python",
   "name": "tensorflow"
  },
  "language_info": {
   "codemirror_mode": {
    "name": "ipython",
    "version": 3
   },
   "file_extension": ".py",
   "mimetype": "text/x-python",
   "name": "python",
   "nbconvert_exporter": "python",
   "pygments_lexer": "ipython3",
   "version": "3.6.1"
  },
  "widgets": {
   "application/vnd.jupyter.widget-state+json": {
    "state": {
     "0005698d41b2482a860f68175841e22b": {
      "model_module": "jupyter-js-widgets",
      "model_module_version": "~2.1.4",
      "model_name": "LayoutModel",
      "state": {
       "_model_module_version": "~2.1.4",
       "_view_module_version": "~2.1.4"
      }
     },
     "031a8971f4f04fccbfb88de0a7e4c4df": {
      "model_module": "jupyter-js-widgets",
      "model_module_version": "~2.1.4",
      "model_name": "LayoutModel",
      "state": {
       "_model_module_version": "~2.1.4",
       "_view_module_version": "~2.1.4"
      }
     },
     "0427964886f941c2b27c612b098a7a3b": {
      "model_module": "jupyter-js-widgets",
      "model_module_version": "~2.1.4",
      "model_name": "HTMLModel",
      "state": {
       "_model_module_version": "~2.1.4",
       "_view_module_version": "~2.1.4",
       "layout": "IPY_MODEL_ac2b490b2f53459e9895cac34911c477",
       "value": "[loss: 0.147, acc: 0.942, val_loss: 0.140, val_acc: 0.944] 100% 32383/32383 [00:08&lt;00:00, 747.18it/s]"
      }
     },
     "070fc430dcc945bbb006f512e988641e": {
      "model_module": "jupyter-js-widgets",
      "model_module_version": "~2.1.4",
      "model_name": "LayoutModel",
      "state": {
       "_model_module_version": "~2.1.4",
       "_view_module_version": "~2.1.4"
      }
     },
     "0d3f2a584a5f4c2193ebcffefae96ca4": {
      "model_module": "jupyter-js-widgets",
      "model_module_version": "~2.1.4",
      "model_name": "HTMLModel",
      "state": {
       "_model_module_version": "~2.1.4",
       "_view_module_version": "~2.1.4",
       "layout": "IPY_MODEL_51e2b9949c11420d989e6f784888b821",
       "value": "[loss: 0.131, acc: 0.949, val_loss: 0.126, val_acc: 0.951] 100% 32383/32383 [00:08&lt;00:00, 785.85it/s]"
      }
     },
     "0ebf15cac6984b2dad2c3156f5b10c7d": {
      "model_module": "jupyter-js-widgets",
      "model_module_version": "~2.1.4",
      "model_name": "HBoxModel",
      "state": {
       "_model_module_version": "~2.1.4",
       "_view_module_version": "~2.1.4",
       "children": [
        "IPY_MODEL_738cf0ac52234dff8b2e0eaef952f082",
        "IPY_MODEL_3e8b1208ae0b46ac987baafeb49a4943"
       ],
       "layout": "IPY_MODEL_031a8971f4f04fccbfb88de0a7e4c4df"
      }
     },
     "127faedc3fec4a1da5e2dcfb4a51f4af": {
      "model_module": "jupyter-js-widgets",
      "model_module_version": "~2.1.4",
      "model_name": "LayoutModel",
      "state": {
       "_model_module_version": "~2.1.4",
       "_view_module_version": "~2.1.4"
      }
     },
     "1369e88deebb4335b23c87865f47737c": {
      "model_module": "jupyter-js-widgets",
      "model_module_version": "~2.1.4",
      "model_name": "HTMLModel",
      "state": {
       "_model_module_version": "~2.1.4",
       "_view_module_version": "~2.1.4",
       "layout": "IPY_MODEL_9200044846fb4c91b73b58929d9594cf",
       "value": "[loss: 0.185, acc: 0.926, val_loss: 0.176, val_acc: 0.932] 100% 32383/32383 [00:08&lt;00:00, 729.46it/s]"
      }
     },
     "15ae565be5974f2896d2b98e0784f59a": {
      "model_module": "jupyter-js-widgets",
      "model_module_version": "~2.1.4",
      "model_name": "HTMLModel",
      "state": {
       "_model_module_version": "~2.1.4",
       "_view_module_version": "~2.1.4",
       "layout": "IPY_MODEL_41a663f9732d48378c1bd0828b6c1f2c",
       "value": "[loss: 0.138, acc: 0.946, val_loss: 0.132, val_acc: 0.948] 100% 32383/32383 [00:08&lt;00:00, 755.58it/s]"
      }
     },
     "1699f430257049219292027ec3b57797": {
      "model_module": "jupyter-js-widgets",
      "model_module_version": "~2.1.4",
      "model_name": "ProgressStyleModel",
      "state": {
       "_model_module_version": "~2.1.4",
       "_view_module_version": "~2.1.4"
      }
     },
     "17b0f986e3aa4a929190ce425981033b": {
      "model_module": "jupyter-js-widgets",
      "model_module_version": "~2.1.4",
      "model_name": "LayoutModel",
      "state": {
       "_model_module_version": "~2.1.4",
       "_view_module_version": "~2.1.4"
      }
     },
     "1825ab4a0b1149959808418a390c20ac": {
      "model_module": "jupyter-js-widgets",
      "model_module_version": "~2.1.4",
      "model_name": "HBoxModel",
      "state": {
       "_model_module_version": "~2.1.4",
       "_view_module_version": "~2.1.4",
       "children": [
        "IPY_MODEL_bd335bb370734964b88b2df5f14fd79a",
        "IPY_MODEL_697df5a07b604fcaa72450f4ebc49f71"
       ],
       "layout": "IPY_MODEL_edbb9ab99c444a23a0b56539c8dc628b"
      }
     },
     "18ded82375014bbf99cfb062286afec0": {
      "model_module": "jupyter-js-widgets",
      "model_module_version": "~2.1.4",
      "model_name": "ProgressModel",
      "state": {
       "_model_module_version": "~2.1.4",
       "_view_module_version": "~2.1.4",
       "description": "Epoch 16: ",
       "layout": "IPY_MODEL_aaa67cd11b404183bbf07966bb1f7336",
       "max": 32383,
       "style": "IPY_MODEL_a1fa2c511daf452d8c9acde2dce559ad",
       "value": 32383
      }
     },
     "18ff7f2a284441a1a58ee3f0d08c20e4": {
      "model_module": "jupyter-js-widgets",
      "model_module_version": "~2.1.4",
      "model_name": "LayoutModel",
      "state": {
       "_model_module_version": "~2.1.4",
       "_view_module_version": "~2.1.4"
      }
     },
     "19ec06a583914f3bb2247ff3c22824e9": {
      "model_module": "jupyter-js-widgets",
      "model_module_version": "~2.1.4",
      "model_name": "HBoxModel",
      "state": {
       "_model_module_version": "~2.1.4",
       "_view_module_version": "~2.1.4",
       "children": [
        "IPY_MODEL_4804f91101ae4921b894459cf0a3c1a0",
        "IPY_MODEL_d8588150348e480aaafbbd5ebe104084"
       ],
       "layout": "IPY_MODEL_0005698d41b2482a860f68175841e22b"
      }
     },
     "1bc51500e27941ac9288e3241dfbb35d": {
      "model_module": "jupyter-js-widgets",
      "model_module_version": "~2.1.4",
      "model_name": "HBoxModel",
      "state": {
       "_model_module_version": "~2.1.4",
       "_view_module_version": "~2.1.4",
       "children": [
        "IPY_MODEL_f891184e52414fdd881536d64a04421b",
        "IPY_MODEL_f19e234095a54b0b9814cf0a48c397cb"
       ],
       "layout": "IPY_MODEL_1de404f2e61f4fb5a135f1e71cde6a5e"
      }
     },
     "1bd6a574c370466584ff231a8414bbea": {
      "model_module": "jupyter-js-widgets",
      "model_module_version": "~2.1.4",
      "model_name": "LayoutModel",
      "state": {
       "_model_module_version": "~2.1.4",
       "_view_module_version": "~2.1.4"
      }
     },
     "1c9eeebb18534edf967e5aec936020ee": {
      "model_module": "jupyter-js-widgets",
      "model_module_version": "~2.1.4",
      "model_name": "ProgressModel",
      "state": {
       "_model_module_version": "~2.1.4",
       "_view_module_version": "~2.1.4",
       "description": "Epoch 3: ",
       "layout": "IPY_MODEL_5ad0f54876d243759b82947831c10478",
       "max": 32383,
       "style": "IPY_MODEL_ffd4cb2874694c5393d312039f1f8521",
       "value": 32383
      }
     },
     "1de404f2e61f4fb5a135f1e71cde6a5e": {
      "model_module": "jupyter-js-widgets",
      "model_module_version": "~2.1.4",
      "model_name": "LayoutModel",
      "state": {
       "_model_module_version": "~2.1.4",
       "_view_module_version": "~2.1.4"
      }
     },
     "205166b347d54a2b8711df4059eaba8e": {
      "model_module": "jupyter-js-widgets",
      "model_module_version": "~2.1.4",
      "model_name": "ProgressStyleModel",
      "state": {
       "_model_module_version": "~2.1.4",
       "_view_module_version": "~2.1.4"
      }
     },
     "22d028842b0a4d4fa619efb2a6dd175d": {
      "model_module": "jupyter-js-widgets",
      "model_module_version": "~2.1.4",
      "model_name": "ProgressStyleModel",
      "state": {
       "_model_module_version": "~2.1.4",
       "_view_module_version": "~2.1.4"
      }
     },
     "283030c34afc495fb2aa38a8e485a05e": {
      "model_module": "jupyter-js-widgets",
      "model_module_version": "~2.1.4",
      "model_name": "LayoutModel",
      "state": {
       "_model_module_version": "~2.1.4",
       "_view_module_version": "~2.1.4"
      }
     },
     "2b9a547a6c5f4fbcbe3b146dc9b75a17": {
      "model_module": "jupyter-js-widgets",
      "model_module_version": "~2.1.4",
      "model_name": "ProgressModel",
      "state": {
       "_model_module_version": "~2.1.4",
       "_view_module_version": "~2.1.4",
       "description": "Epoch 12: ",
       "layout": "IPY_MODEL_79426ac464d24d119a410763e325dbf7",
       "max": 32383,
       "style": "IPY_MODEL_205166b347d54a2b8711df4059eaba8e",
       "value": 32383
      }
     },
     "2cb6f49d8cf64b6985f70ffb9848a6d7": {
      "model_module": "jupyter-js-widgets",
      "model_module_version": "~2.1.4",
      "model_name": "ProgressModel",
      "state": {
       "_model_module_version": "~2.1.4",
       "_view_module_version": "~2.1.4",
       "description": "Epoch 4: ",
       "layout": "IPY_MODEL_d8f8aa10cf0e43f392bb51e1c1185cdf",
       "max": 32383,
       "style": "IPY_MODEL_920f0ed0cef74d2782d0568880048c16",
       "value": 32383
      }
     },
     "2d1da4afd46d4902b80c7a95e899eb56": {
      "model_module": "jupyter-js-widgets",
      "model_module_version": "~2.1.4",
      "model_name": "LayoutModel",
      "state": {
       "_model_module_version": "~2.1.4",
       "_view_module_version": "~2.1.4"
      }
     },
     "2d48533abb674494a1a0f485d6529626": {
      "model_module": "jupyter-js-widgets",
      "model_module_version": "~2.1.4",
      "model_name": "ProgressStyleModel",
      "state": {
       "_model_module_version": "~2.1.4",
       "_view_module_version": "~2.1.4"
      }
     },
     "2dace49c2ccd4a4cac141eb2f084871b": {
      "model_module": "jupyter-js-widgets",
      "model_module_version": "~2.1.4",
      "model_name": "LayoutModel",
      "state": {
       "_model_module_version": "~2.1.4",
       "_view_module_version": "~2.1.4"
      }
     },
     "31282e6345894c898fd9b617fc553123": {
      "model_module": "jupyter-js-widgets",
      "model_module_version": "~2.1.4",
      "model_name": "HBoxModel",
      "state": {
       "_model_module_version": "~2.1.4",
       "_view_module_version": "~2.1.4",
       "children": [
        "IPY_MODEL_73703adcc9804191b6727f45639d9983",
        "IPY_MODEL_4918208310c34ef1b43c56470aa8b2fc"
       ],
       "layout": "IPY_MODEL_a4ee74744ab4421d9956d1a43c089e6f"
      }
     },
     "33decb62f539481dab055adddbaa31b4": {
      "model_module": "jupyter-js-widgets",
      "model_module_version": "~2.1.4",
      "model_name": "LayoutModel",
      "state": {
       "_model_module_version": "~2.1.4",
       "_view_module_version": "~2.1.4"
      }
     },
     "343ac91d395043b3adf6975e9717b09e": {
      "model_module": "jupyter-js-widgets",
      "model_module_version": "~2.1.4",
      "model_name": "LayoutModel",
      "state": {
       "_model_module_version": "~2.1.4",
       "_view_module_version": "~2.1.4"
      }
     },
     "357f2c06d4fb4056b703d958c189ef72": {
      "model_module": "jupyter-js-widgets",
      "model_module_version": "~2.1.4",
      "model_name": "ProgressStyleModel",
      "state": {
       "_model_module_version": "~2.1.4",
       "_view_module_version": "~2.1.4"
      }
     },
     "3b959cbbd0e848d3b08824a04c459376": {
      "model_module": "jupyter-js-widgets",
      "model_module_version": "~2.1.4",
      "model_name": "LayoutModel",
      "state": {
       "_model_module_version": "~2.1.4",
       "_view_module_version": "~2.1.4"
      }
     },
     "3bef20e2640a4c8e808adace4e5d0603": {
      "model_module": "jupyter-js-widgets",
      "model_module_version": "~2.1.4",
      "model_name": "LayoutModel",
      "state": {
       "_model_module_version": "~2.1.4",
       "_view_module_version": "~2.1.4"
      }
     },
     "3cd3887b5267453aafaaa459c7089b11": {
      "model_module": "jupyter-js-widgets",
      "model_module_version": "~2.1.4",
      "model_name": "ProgressModel",
      "state": {
       "_model_module_version": "~2.1.4",
       "_view_module_version": "~2.1.4",
       "description": "Epoch 13: ",
       "layout": "IPY_MODEL_d25a1d01d4a440beb7f1f53a8ca9d8ff",
       "max": 32383,
       "style": "IPY_MODEL_8ce049f29f38439fadcbccdddfb31dfe",
       "value": 32383
      }
     },
     "3d837403bc47436ab313abdefc6651df": {
      "model_module": "jupyter-js-widgets",
      "model_module_version": "~2.1.4",
      "model_name": "LayoutModel",
      "state": {
       "_model_module_version": "~2.1.4",
       "_view_module_version": "~2.1.4"
      }
     },
     "3e8b1208ae0b46ac987baafeb49a4943": {
      "model_module": "jupyter-js-widgets",
      "model_module_version": "~2.1.4",
      "model_name": "HTMLModel",
      "state": {
       "_model_module_version": "~2.1.4",
       "_view_module_version": "~2.1.4",
       "layout": "IPY_MODEL_ec991767ee8c44b2a1f45450e85ca653",
       "value": "[loss: 0.151, acc: 0.940, val_loss: 0.142, val_acc: 0.945] 100% 32383/32383 [00:08&lt;00:00, 688.00it/s]"
      }
     },
     "4158ccac6bae4e5b8bb0aaedd855321c": {
      "model_module": "jupyter-js-widgets",
      "model_module_version": "~2.1.4",
      "model_name": "ProgressStyleModel",
      "state": {
       "_model_module_version": "~2.1.4",
       "_view_module_version": "~2.1.4"
      }
     },
     "41a663f9732d48378c1bd0828b6c1f2c": {
      "model_module": "jupyter-js-widgets",
      "model_module_version": "~2.1.4",
      "model_name": "LayoutModel",
      "state": {
       "_model_module_version": "~2.1.4",
       "_view_module_version": "~2.1.4"
      }
     },
     "42b41ee141fc4dd5825a527b24f39a47": {
      "model_module": "jupyter-js-widgets",
      "model_module_version": "~2.1.4",
      "model_name": "LayoutModel",
      "state": {
       "_model_module_version": "~2.1.4",
       "_view_module_version": "~2.1.4"
      }
     },
     "4570330f7f794e8b8cef5bf062d60544": {
      "model_module": "jupyter-js-widgets",
      "model_module_version": "~2.1.4",
      "model_name": "HTMLModel",
      "state": {
       "_model_module_version": "~2.1.4",
       "_view_module_version": "~2.1.4",
       "layout": "IPY_MODEL_f902bbc0d34b4d80ade9784229f47607",
       "value": "[loss: 0.163, acc: 0.935, val_loss: 0.153, val_acc: 0.938] 100% 32383/32383 [00:08&lt;00:00, 710.37it/s]"
      }
     },
     "4804f91101ae4921b894459cf0a3c1a0": {
      "model_module": "jupyter-js-widgets",
      "model_module_version": "~2.1.4",
      "model_name": "ProgressModel",
      "state": {
       "_model_module_version": "~2.1.4",
       "_view_module_version": "~2.1.4",
       "description": "Epoch 7: ",
       "layout": "IPY_MODEL_42b41ee141fc4dd5825a527b24f39a47",
       "max": 32383,
       "style": "IPY_MODEL_b1d5efad534b49019ec23899f28f5ea8",
       "value": 32383
      }
     },
     "4918208310c34ef1b43c56470aa8b2fc": {
      "model_module": "jupyter-js-widgets",
      "model_module_version": "~2.1.4",
      "model_name": "HTMLModel",
      "state": {
       "_model_module_version": "~2.1.4",
       "_view_module_version": "~2.1.4",
       "layout": "IPY_MODEL_806c52f298c74fca93d073882e81a86b",
       "value": "[loss: 0.128, acc: 0.950, val_loss: 0.122, val_acc: 0.953] 100% 32383/32383 [00:08&lt;00:00, 693.80it/s]"
      }
     },
     "4c0c23fb2f7b477688a46e7d464057df": {
      "model_module": "jupyter-js-widgets",
      "model_module_version": "~2.1.4",
      "model_name": "LayoutModel",
      "state": {
       "_model_module_version": "~2.1.4",
       "_view_module_version": "~2.1.4"
      }
     },
     "4c719a4fa66c4910870ff8fc126f994a": {
      "model_module": "jupyter-js-widgets",
      "model_module_version": "~2.1.4",
      "model_name": "HTMLModel",
      "state": {
       "_model_module_version": "~2.1.4",
       "_view_module_version": "~2.1.4",
       "layout": "IPY_MODEL_fd452093d5ff4f1f9d7564429a7a4dea",
       "value": "[loss: 0.137, acc: 0.946, val_loss: 0.130, val_acc: 0.949] 100% 32383/32383 [00:08&lt;00:00, 726.92it/s]"
      }
     },
     "4f08d07a43424a0190b0fc7ae08b83ab": {
      "model_module": "jupyter-js-widgets",
      "model_module_version": "~2.1.4",
      "model_name": "LayoutModel",
      "state": {
       "_model_module_version": "~2.1.4",
       "_view_module_version": "~2.1.4"
      }
     },
     "51e2b9949c11420d989e6f784888b821": {
      "model_module": "jupyter-js-widgets",
      "model_module_version": "~2.1.4",
      "model_name": "LayoutModel",
      "state": {
       "_model_module_version": "~2.1.4",
       "_view_module_version": "~2.1.4"
      }
     },
     "524fa8970ea549f99ec6917d63045218": {
      "model_module": "jupyter-js-widgets",
      "model_module_version": "~2.1.4",
      "model_name": "HBoxModel",
      "state": {
       "_model_module_version": "~2.1.4",
       "_view_module_version": "~2.1.4",
       "children": [
        "IPY_MODEL_1c9eeebb18534edf967e5aec936020ee",
        "IPY_MODEL_4570330f7f794e8b8cef5bf062d60544"
       ],
       "layout": "IPY_MODEL_343ac91d395043b3adf6975e9717b09e"
      }
     },
     "5546493555214b5ca2d77abccb0652e1": {
      "model_module": "jupyter-js-widgets",
      "model_module_version": "~2.1.4",
      "model_name": "LayoutModel",
      "state": {
       "_model_module_version": "~2.1.4",
       "_view_module_version": "~2.1.4"
      }
     },
     "58aac1c1398543278ad8aad1c4fd2162": {
      "model_module": "jupyter-js-widgets",
      "model_module_version": "~2.1.4",
      "model_name": "LayoutModel",
      "state": {
       "_model_module_version": "~2.1.4",
       "_view_module_version": "~2.1.4"
      }
     },
     "59d1101d03994722a818e00d6900dab3": {
      "model_module": "jupyter-js-widgets",
      "model_module_version": "~2.1.4",
      "model_name": "LayoutModel",
      "state": {
       "_model_module_version": "~2.1.4",
       "_view_module_version": "~2.1.4"
      }
     },
     "5ad0f54876d243759b82947831c10478": {
      "model_module": "jupyter-js-widgets",
      "model_module_version": "~2.1.4",
      "model_name": "LayoutModel",
      "state": {
       "_model_module_version": "~2.1.4",
       "_view_module_version": "~2.1.4"
      }
     },
     "5c66374f215842699f858aca860ead63": {
      "model_module": "jupyter-js-widgets",
      "model_module_version": "~2.1.4",
      "model_name": "LayoutModel",
      "state": {
       "_model_module_version": "~2.1.4",
       "_view_module_version": "~2.1.4"
      }
     },
     "5d92da8fe1d546a7b812e94fb0566d29": {
      "model_module": "jupyter-js-widgets",
      "model_module_version": "~2.1.4",
      "model_name": "ProgressStyleModel",
      "state": {
       "_model_module_version": "~2.1.4",
       "_view_module_version": "~2.1.4"
      }
     },
     "61664c0d6bc549f1a69f1f6fcc6dd26c": {
      "model_module": "jupyter-js-widgets",
      "model_module_version": "~2.1.4",
      "model_name": "HBoxModel",
      "state": {
       "_model_module_version": "~2.1.4",
       "_view_module_version": "~2.1.4",
       "children": [
        "IPY_MODEL_d0361e5ed464464c93ac2c0b4e0af616",
        "IPY_MODEL_1369e88deebb4335b23c87865f47737c"
       ],
       "layout": "IPY_MODEL_17b0f986e3aa4a929190ce425981033b"
      }
     },
     "64aaae8e8130429d8e99c31d90938f4d": {
      "model_module": "jupyter-js-widgets",
      "model_module_version": "~2.1.4",
      "model_name": "LayoutModel",
      "state": {
       "_model_module_version": "~2.1.4",
       "_view_module_version": "~2.1.4"
      }
     },
     "669b5dc4839d4fb3bc39bdbac2d3f87f": {
      "model_module": "jupyter-js-widgets",
      "model_module_version": "~2.1.4",
      "model_name": "LayoutModel",
      "state": {
       "_model_module_version": "~2.1.4",
       "_view_module_version": "~2.1.4"
      }
     },
     "66b134b604694ee9874311dc24be04bf": {
      "model_module": "jupyter-js-widgets",
      "model_module_version": "~2.1.4",
      "model_name": "LayoutModel",
      "state": {
       "_model_module_version": "~2.1.4",
       "_view_module_version": "~2.1.4"
      }
     },
     "66e50526c1334a2a9ac0aebeadcdaf6c": {
      "model_module": "jupyter-js-widgets",
      "model_module_version": "~2.1.4",
      "model_name": "HBoxModel",
      "state": {
       "_model_module_version": "~2.1.4",
       "_view_module_version": "~2.1.4",
       "children": [
        "IPY_MODEL_f685f83247dd4473964d12a05460aa0d",
        "IPY_MODEL_87c26bb2fda64533b605c0b0a70c8ab6"
       ],
       "layout": "IPY_MODEL_aefadc62018245659d8b672e9df577cf"
      }
     },
     "6772dbcb1074499e89f91b94a5b83965": {
      "model_module": "jupyter-js-widgets",
      "model_module_version": "~2.1.4",
      "model_name": "ProgressModel",
      "state": {
       "_model_module_version": "~2.1.4",
       "_view_module_version": "~2.1.4",
       "description": "Epoch 15: ",
       "layout": "IPY_MODEL_99ff7264635b4b47968b0ab647b15214",
       "max": 32383,
       "style": "IPY_MODEL_9d2249194b8e460194d18760a4bd9411",
       "value": 32383
      }
     },
     "697df5a07b604fcaa72450f4ebc49f71": {
      "model_module": "jupyter-js-widgets",
      "model_module_version": "~2.1.4",
      "model_name": "HTMLModel",
      "state": {
       "_model_module_version": "~2.1.4",
       "_view_module_version": "~2.1.4",
       "layout": "IPY_MODEL_b61834b9a36f406192733515668ed693",
       "value": "[loss: 0.141, acc: 0.944, val_loss: 0.133, val_acc: 0.947] 100% 32383/32383 [00:08&lt;00:00, 780.08it/s]"
      }
     },
     "6cd831e7289749c6af6561fa7394c1fa": {
      "model_module": "jupyter-js-widgets",
      "model_module_version": "~2.1.4",
      "model_name": "HTMLModel",
      "state": {
       "_model_module_version": "~2.1.4",
       "_view_module_version": "~2.1.4",
       "layout": "IPY_MODEL_2d1da4afd46d4902b80c7a95e899eb56",
       "value": "[loss: 0.129, acc: 0.949, val_loss: 0.127, val_acc: 0.949] 100% 32383/32383 [00:08&lt;00:00, 679.07it/s]"
      }
     },
     "6fcb61230317401fb4cd8f3fc5bcf49c": {
      "model_module": "jupyter-js-widgets",
      "model_module_version": "~2.1.4",
      "model_name": "ProgressModel",
      "state": {
       "_model_module_version": "~2.1.4",
       "_view_module_version": "~2.1.4",
       "description": "Epoch 2: ",
       "layout": "IPY_MODEL_f1303e6df0d74fa4b4187b883a62a6d6",
       "max": 32383,
       "style": "IPY_MODEL_1699f430257049219292027ec3b57797",
       "value": 32383
      }
     },
     "7029dfca0af346bf82ed0e0883de1d70": {
      "model_module": "jupyter-js-widgets",
      "model_module_version": "~2.1.4",
      "model_name": "LayoutModel",
      "state": {
       "_model_module_version": "~2.1.4",
       "_view_module_version": "~2.1.4"
      }
     },
     "70f6df04ecdc412abd2dc58f13392e01": {
      "model_module": "jupyter-js-widgets",
      "model_module_version": "~2.1.4",
      "model_name": "LayoutModel",
      "state": {
       "_model_module_version": "~2.1.4",
       "_view_module_version": "~2.1.4"
      }
     },
     "72ebdfbb444b4be195ec6bbf6aba16f2": {
      "model_module": "jupyter-js-widgets",
      "model_module_version": "~2.1.4",
      "model_name": "ProgressModel",
      "state": {
       "_model_module_version": "~2.1.4",
       "_view_module_version": "~2.1.4",
       "bar_style": "success",
       "description": "Training: ",
       "layout": "IPY_MODEL_da9e13680b4f4d8cb766b00515fa9afa",
       "max": 20,
       "style": "IPY_MODEL_b4ed1bb38d98486fa22dc5aa446e6694",
       "value": 20
      }
     },
     "73703adcc9804191b6727f45639d9983": {
      "model_module": "jupyter-js-widgets",
      "model_module_version": "~2.1.4",
      "model_name": "ProgressModel",
      "state": {
       "_model_module_version": "~2.1.4",
       "_view_module_version": "~2.1.4",
       "description": "Epoch 19: ",
       "layout": "IPY_MODEL_2dace49c2ccd4a4cac141eb2f084871b",
       "max": 32383,
       "style": "IPY_MODEL_b07b97a183f34a03866666915adfe399",
       "value": 32383
      }
     },
     "738cf0ac52234dff8b2e0eaef952f082": {
      "model_module": "jupyter-js-widgets",
      "model_module_version": "~2.1.4",
      "model_name": "ProgressModel",
      "state": {
       "_model_module_version": "~2.1.4",
       "_view_module_version": "~2.1.4",
       "description": "Epoch 5: ",
       "layout": "IPY_MODEL_bda79fa08533457996241025f1489b44",
       "max": 32383,
       "style": "IPY_MODEL_357f2c06d4fb4056b703d958c189ef72",
       "value": 32383
      }
     },
     "758565622d66405283c0c87b7f76cfb9": {
      "model_module": "jupyter-js-widgets",
      "model_module_version": "~2.1.4",
      "model_name": "HBoxModel",
      "state": {
       "_model_module_version": "~2.1.4",
       "_view_module_version": "~2.1.4",
       "children": [
        "IPY_MODEL_3cd3887b5267453aafaaa459c7089b11",
        "IPY_MODEL_938c231aa0794d38a9dce37fa92edbda"
       ],
       "layout": "IPY_MODEL_127faedc3fec4a1da5e2dcfb4a51f4af"
      }
     },
     "7592e36cba37418ab6339540c90597e8": {
      "model_module": "jupyter-js-widgets",
      "model_module_version": "~2.1.4",
      "model_name": "HBoxModel",
      "state": {
       "_model_module_version": "~2.1.4",
       "_view_module_version": "~2.1.4",
       "children": [
        "IPY_MODEL_6fcb61230317401fb4cd8f3fc5bcf49c",
        "IPY_MODEL_7a6d6a0a45be437dad457c9ac05dd165"
       ],
       "layout": "IPY_MODEL_d56d034581684eadb0c6ecaff5966a9a"
      }
     },
     "79426ac464d24d119a410763e325dbf7": {
      "model_module": "jupyter-js-widgets",
      "model_module_version": "~2.1.4",
      "model_name": "LayoutModel",
      "state": {
       "_model_module_version": "~2.1.4",
       "_view_module_version": "~2.1.4"
      }
     },
     "7a6d6a0a45be437dad457c9ac05dd165": {
      "model_module": "jupyter-js-widgets",
      "model_module_version": "~2.1.4",
      "model_name": "HTMLModel",
      "state": {
       "_model_module_version": "~2.1.4",
       "_view_module_version": "~2.1.4",
       "layout": "IPY_MODEL_66b134b604694ee9874311dc24be04bf",
       "value": "[loss: 0.171, acc: 0.932, val_loss: 0.174, val_acc: 0.929] 100% 32383/32383 [00:08&lt;00:00, 715.49it/s]"
      }
     },
     "7b4e7afc56964e7fb0fa7a3641216b4a": {
      "model_module": "jupyter-js-widgets",
      "model_module_version": "~2.1.4",
      "model_name": "HBoxModel",
      "state": {
       "_model_module_version": "~2.1.4",
       "_view_module_version": "~2.1.4",
       "children": [
        "IPY_MODEL_9677f839a153402aad6026d9a19b5b73",
        "IPY_MODEL_4c719a4fa66c4910870ff8fc126f994a"
       ],
       "layout": "IPY_MODEL_ee2b542140d247b2952cd63138a366db"
      }
     },
     "806c52f298c74fca93d073882e81a86b": {
      "model_module": "jupyter-js-widgets",
      "model_module_version": "~2.1.4",
      "model_name": "LayoutModel",
      "state": {
       "_model_module_version": "~2.1.4",
       "_view_module_version": "~2.1.4"
      }
     },
     "81e11ed1953b4c589d64b115ba28742c": {
      "model_module": "jupyter-js-widgets",
      "model_module_version": "~2.1.4",
      "model_name": "ProgressStyleModel",
      "state": {
       "_model_module_version": "~2.1.4",
       "_view_module_version": "~2.1.4"
      }
     },
     "84c5ac5fe86f410097ae30465c893388": {
      "model_module": "jupyter-js-widgets",
      "model_module_version": "~2.1.4",
      "model_name": "ProgressStyleModel",
      "state": {
       "_model_module_version": "~2.1.4",
       "_view_module_version": "~2.1.4"
      }
     },
     "87c26bb2fda64533b605c0b0a70c8ab6": {
      "model_module": "jupyter-js-widgets",
      "model_module_version": "~2.1.4",
      "model_name": "HTMLModel",
      "state": {
       "_model_module_version": "~2.1.4",
       "_view_module_version": "~2.1.4",
       "layout": "IPY_MODEL_18ff7f2a284441a1a58ee3f0d08c20e4",
       "value": "[loss: 0.135, acc: 0.947, val_loss: 0.129, val_acc: 0.950] 100% 32383/32383 [00:08&lt;00:00, 723.18it/s]"
      }
     },
     "8ce049f29f38439fadcbccdddfb31dfe": {
      "model_module": "jupyter-js-widgets",
      "model_module_version": "~2.1.4",
      "model_name": "ProgressStyleModel",
      "state": {
       "_model_module_version": "~2.1.4",
       "_view_module_version": "~2.1.4"
      }
     },
     "8d0e2175f572463eaa56f4911141dab7": {
      "model_module": "jupyter-js-widgets",
      "model_module_version": "~2.1.4",
      "model_name": "LayoutModel",
      "state": {
       "_model_module_version": "~2.1.4",
       "_view_module_version": "~2.1.4"
      }
     },
     "9200044846fb4c91b73b58929d9594cf": {
      "model_module": "jupyter-js-widgets",
      "model_module_version": "~2.1.4",
      "model_name": "LayoutModel",
      "state": {
       "_model_module_version": "~2.1.4",
       "_view_module_version": "~2.1.4"
      }
     },
     "920f0ed0cef74d2782d0568880048c16": {
      "model_module": "jupyter-js-widgets",
      "model_module_version": "~2.1.4",
      "model_name": "ProgressStyleModel",
      "state": {
       "_model_module_version": "~2.1.4",
       "_view_module_version": "~2.1.4"
      }
     },
     "938c231aa0794d38a9dce37fa92edbda": {
      "model_module": "jupyter-js-widgets",
      "model_module_version": "~2.1.4",
      "model_name": "HTMLModel",
      "state": {
       "_model_module_version": "~2.1.4",
       "_view_module_version": "~2.1.4",
       "layout": "IPY_MODEL_3d837403bc47436ab313abdefc6651df",
       "value": "[loss: 0.133, acc: 0.948, val_loss: 0.127, val_acc: 0.950] 100% 32383/32383 [00:08&lt;00:00, 737.11it/s]"
      }
     },
     "9677f839a153402aad6026d9a19b5b73": {
      "model_module": "jupyter-js-widgets",
      "model_module_version": "~2.1.4",
      "model_name": "ProgressModel",
      "state": {
       "_model_module_version": "~2.1.4",
       "_view_module_version": "~2.1.4",
       "description": "Epoch 10: ",
       "layout": "IPY_MODEL_c8fb716feb9e4ccca46bd70976251f82",
       "max": 32383,
       "style": "IPY_MODEL_2d48533abb674494a1a0f485d6529626",
       "value": 32383
      }
     },
     "97968873e14d4bad947998df85e33feb": {
      "model_module": "jupyter-js-widgets",
      "model_module_version": "~2.1.4",
      "model_name": "LayoutModel",
      "state": {
       "_model_module_version": "~2.1.4",
       "_view_module_version": "~2.1.4"
      }
     },
     "98ee5bc4f1844bd987f0f851f7e6eac4": {
      "model_module": "jupyter-js-widgets",
      "model_module_version": "~2.1.4",
      "model_name": "LayoutModel",
      "state": {
       "_model_module_version": "~2.1.4",
       "_view_module_version": "~2.1.4"
      }
     },
     "99ff7264635b4b47968b0ab647b15214": {
      "model_module": "jupyter-js-widgets",
      "model_module_version": "~2.1.4",
      "model_name": "LayoutModel",
      "state": {
       "_model_module_version": "~2.1.4",
       "_view_module_version": "~2.1.4"
      }
     },
     "9d2249194b8e460194d18760a4bd9411": {
      "model_module": "jupyter-js-widgets",
      "model_module_version": "~2.1.4",
      "model_name": "ProgressStyleModel",
      "state": {
       "_model_module_version": "~2.1.4",
       "_view_module_version": "~2.1.4"
      }
     },
     "9e875e65abce45f68877ea7351cac655": {
      "model_module": "jupyter-js-widgets",
      "model_module_version": "~2.1.4",
      "model_name": "LayoutModel",
      "state": {
       "_model_module_version": "~2.1.4",
       "_view_module_version": "~2.1.4"
      }
     },
     "a1fa2c511daf452d8c9acde2dce559ad": {
      "model_module": "jupyter-js-widgets",
      "model_module_version": "~2.1.4",
      "model_name": "ProgressStyleModel",
      "state": {
       "_model_module_version": "~2.1.4",
       "_view_module_version": "~2.1.4"
      }
     },
     "a23317f1ed924a3f806e5a24133fb3a3": {
      "model_module": "jupyter-js-widgets",
      "model_module_version": "~2.1.4",
      "model_name": "HBoxModel",
      "state": {
       "_model_module_version": "~2.1.4",
       "_view_module_version": "~2.1.4",
       "children": [
        "IPY_MODEL_d53f998498944690a667e2a4290b7ca8",
        "IPY_MODEL_0427964886f941c2b27c612b098a7a3b"
       ],
       "layout": "IPY_MODEL_1bd6a574c370466584ff231a8414bbea"
      }
     },
     "a4ee74744ab4421d9956d1a43c089e6f": {
      "model_module": "jupyter-js-widgets",
      "model_module_version": "~2.1.4",
      "model_name": "LayoutModel",
      "state": {
       "_model_module_version": "~2.1.4",
       "_view_module_version": "~2.1.4"
      }
     },
     "a50b9683b06f46278ec6d89a43298a8c": {
      "model_module": "jupyter-js-widgets",
      "model_module_version": "~2.1.4",
      "model_name": "LayoutModel",
      "state": {
       "_model_module_version": "~2.1.4",
       "_view_module_version": "~2.1.4"
      }
     },
     "a64c6af2fb0947a3bff4c84b9b2ba444": {
      "model_module": "jupyter-js-widgets",
      "model_module_version": "~2.1.4",
      "model_name": "LayoutModel",
      "state": {
       "_model_module_version": "~2.1.4",
       "_view_module_version": "~2.1.4"
      }
     },
     "a7692885f8854a86b39a636fb63f26f1": {
      "model_module": "jupyter-js-widgets",
      "model_module_version": "~2.1.4",
      "model_name": "HBoxModel",
      "state": {
       "_model_module_version": "~2.1.4",
       "_view_module_version": "~2.1.4",
       "children": [
        "IPY_MODEL_2b9a547a6c5f4fbcbe3b146dc9b75a17",
        "IPY_MODEL_d2c0a43619a7498ebff208db93dd0cdc"
       ],
       "layout": "IPY_MODEL_33decb62f539481dab055adddbaa31b4"
      }
     },
     "a8eac21eda4f45d7bdb6fd7b80fc1989": {
      "model_module": "jupyter-js-widgets",
      "model_module_version": "~2.1.4",
      "model_name": "ProgressModel",
      "state": {
       "_model_module_version": "~2.1.4",
       "_view_module_version": "~2.1.4",
       "description": "Epoch 18: ",
       "layout": "IPY_MODEL_70f6df04ecdc412abd2dc58f13392e01",
       "max": 32383,
       "style": "IPY_MODEL_4158ccac6bae4e5b8bb0aaedd855321c",
       "value": 32383
      }
     },
     "aaa67cd11b404183bbf07966bb1f7336": {
      "model_module": "jupyter-js-widgets",
      "model_module_version": "~2.1.4",
      "model_name": "LayoutModel",
      "state": {
       "_model_module_version": "~2.1.4",
       "_view_module_version": "~2.1.4"
      }
     },
     "ac2b490b2f53459e9895cac34911c477": {
      "model_module": "jupyter-js-widgets",
      "model_module_version": "~2.1.4",
      "model_name": "LayoutModel",
      "state": {
       "_model_module_version": "~2.1.4",
       "_view_module_version": "~2.1.4"
      }
     },
     "aefadc62018245659d8b672e9df577cf": {
      "model_module": "jupyter-js-widgets",
      "model_module_version": "~2.1.4",
      "model_name": "LayoutModel",
      "state": {
       "_model_module_version": "~2.1.4",
       "_view_module_version": "~2.1.4"
      }
     },
     "af0eddd08f9044769566a9097d4a7422": {
      "model_module": "jupyter-js-widgets",
      "model_module_version": "~2.1.4",
      "model_name": "ProgressStyleModel",
      "state": {
       "_model_module_version": "~2.1.4",
       "_view_module_version": "~2.1.4"
      }
     },
     "b07b97a183f34a03866666915adfe399": {
      "model_module": "jupyter-js-widgets",
      "model_module_version": "~2.1.4",
      "model_name": "ProgressStyleModel",
      "state": {
       "_model_module_version": "~2.1.4",
       "_view_module_version": "~2.1.4"
      }
     },
     "b1d5efad534b49019ec23899f28f5ea8": {
      "model_module": "jupyter-js-widgets",
      "model_module_version": "~2.1.4",
      "model_name": "ProgressStyleModel",
      "state": {
       "_model_module_version": "~2.1.4",
       "_view_module_version": "~2.1.4"
      }
     },
     "b2272493f46543a8851e92ce82f7bce1": {
      "model_module": "jupyter-js-widgets",
      "model_module_version": "~2.1.4",
      "model_name": "HBoxModel",
      "state": {
       "_model_module_version": "~2.1.4",
       "_view_module_version": "~2.1.4",
       "children": [
        "IPY_MODEL_b3ff5825c4b448c6a3354ef9951e50fc",
        "IPY_MODEL_15ae565be5974f2896d2b98e0784f59a"
       ],
       "layout": "IPY_MODEL_e05518c18132487ba207f35811186dda"
      }
     },
     "b396473a844b4f4bb328121fa13feca6": {
      "model_module": "jupyter-js-widgets",
      "model_module_version": "~2.1.4",
      "model_name": "HBoxModel",
      "state": {
       "_model_module_version": "~2.1.4",
       "_view_module_version": "~2.1.4",
       "children": [
        "IPY_MODEL_d81b345d34b1454d896204fc03dc9e4e",
        "IPY_MODEL_b5d9de5d3d9547bd822d7192420dfb6c"
       ],
       "layout": "IPY_MODEL_64aaae8e8130429d8e99c31d90938f4d"
      }
     },
     "b3ff5825c4b448c6a3354ef9951e50fc": {
      "model_module": "jupyter-js-widgets",
      "model_module_version": "~2.1.4",
      "model_name": "ProgressModel",
      "state": {
       "_model_module_version": "~2.1.4",
       "_view_module_version": "~2.1.4",
       "description": "Epoch 9: ",
       "layout": "IPY_MODEL_7029dfca0af346bf82ed0e0883de1d70",
       "max": 32383,
       "style": "IPY_MODEL_81e11ed1953b4c589d64b115ba28742c",
       "value": 32383
      }
     },
     "b4ed1bb38d98486fa22dc5aa446e6694": {
      "model_module": "jupyter-js-widgets",
      "model_module_version": "~2.1.4",
      "model_name": "ProgressStyleModel",
      "state": {
       "_model_module_version": "~2.1.4",
       "_view_module_version": "~2.1.4"
      }
     },
     "b5d9de5d3d9547bd822d7192420dfb6c": {
      "model_module": "jupyter-js-widgets",
      "model_module_version": "~2.1.4",
      "model_name": "HTMLModel",
      "state": {
       "_model_module_version": "~2.1.4",
       "_view_module_version": "~2.1.4",
       "layout": "IPY_MODEL_d835228a15c7437ebbbd7eb3e1447a93",
       "value": "[loss: 0.230, acc: 0.903, val_loss: 0.242, val_acc: 0.924] 100% 32383/32383 [00:09&lt;00:00, 1178.95it/s]"
      }
     },
     "b61834b9a36f406192733515668ed693": {
      "model_module": "jupyter-js-widgets",
      "model_module_version": "~2.1.4",
      "model_name": "LayoutModel",
      "state": {
       "_model_module_version": "~2.1.4",
       "_view_module_version": "~2.1.4"
      }
     },
     "bd335bb370734964b88b2df5f14fd79a": {
      "model_module": "jupyter-js-widgets",
      "model_module_version": "~2.1.4",
      "model_name": "ProgressModel",
      "state": {
       "_model_module_version": "~2.1.4",
       "_view_module_version": "~2.1.4",
       "description": "Epoch 8: ",
       "layout": "IPY_MODEL_a50b9683b06f46278ec6d89a43298a8c",
       "max": 32383,
       "style": "IPY_MODEL_af0eddd08f9044769566a9097d4a7422",
       "value": 32383
      }
     },
     "bda79fa08533457996241025f1489b44": {
      "model_module": "jupyter-js-widgets",
      "model_module_version": "~2.1.4",
      "model_name": "LayoutModel",
      "state": {
       "_model_module_version": "~2.1.4",
       "_view_module_version": "~2.1.4"
      }
     },
     "c66c6934592a4c558fae9588542bafa8": {
      "model_module": "jupyter-js-widgets",
      "model_module_version": "~2.1.4",
      "model_name": "HBoxModel",
      "state": {
       "_model_module_version": "~2.1.4",
       "_view_module_version": "~2.1.4",
       "children": [
        "IPY_MODEL_6772dbcb1074499e89f91b94a5b83965",
        "IPY_MODEL_cac58ad4c0d44a46b48dedfbb76b4284"
       ],
       "layout": "IPY_MODEL_a64c6af2fb0947a3bff4c84b9b2ba444"
      }
     },
     "c8fb716feb9e4ccca46bd70976251f82": {
      "model_module": "jupyter-js-widgets",
      "model_module_version": "~2.1.4",
      "model_name": "LayoutModel",
      "state": {
       "_model_module_version": "~2.1.4",
       "_view_module_version": "~2.1.4"
      }
     },
     "c97488a74fed4344a8966fd8d1138602": {
      "model_module": "jupyter-js-widgets",
      "model_module_version": "~2.1.4",
      "model_name": "HBoxModel",
      "state": {
       "_model_module_version": "~2.1.4",
       "_view_module_version": "~2.1.4",
       "children": [
        "IPY_MODEL_72ebdfbb444b4be195ec6bbf6aba16f2",
        "IPY_MODEL_e897d3bebd65490b8ae9c543032497fc"
       ],
       "layout": "IPY_MODEL_3b959cbbd0e848d3b08824a04c459376"
      }
     },
     "ca6d81e98b6b4bad97e96f31adc5a58c": {
      "model_module": "jupyter-js-widgets",
      "model_module_version": "~2.1.4",
      "model_name": "HBoxModel",
      "state": {
       "_model_module_version": "~2.1.4",
       "_view_module_version": "~2.1.4",
       "children": [
        "IPY_MODEL_2cb6f49d8cf64b6985f70ffb9848a6d7",
        "IPY_MODEL_fd0ff17db4b54fc9bd5f52a4b4e8ce31"
       ],
       "layout": "IPY_MODEL_9e875e65abce45f68877ea7351cac655"
      }
     },
     "cac58ad4c0d44a46b48dedfbb76b4284": {
      "model_module": "jupyter-js-widgets",
      "model_module_version": "~2.1.4",
      "model_name": "HTMLModel",
      "state": {
       "_model_module_version": "~2.1.4",
       "_view_module_version": "~2.1.4",
       "layout": "IPY_MODEL_98ee5bc4f1844bd987f0f851f7e6eac4",
       "value": "[loss: 0.130, acc: 0.949, val_loss: 0.124, val_acc: 0.951] 100% 32383/32383 [00:08&lt;00:00, 692.47it/s]"
      }
     },
     "cd94c134b1ef4e10b70f86ecfa7808f3": {
      "model_module": "jupyter-js-widgets",
      "model_module_version": "~2.1.4",
      "model_name": "LayoutModel",
      "state": {
       "_model_module_version": "~2.1.4",
       "_view_module_version": "~2.1.4"
      }
     },
     "d0361e5ed464464c93ac2c0b4e0af616": {
      "model_module": "jupyter-js-widgets",
      "model_module_version": "~2.1.4",
      "model_name": "ProgressModel",
      "state": {
       "_model_module_version": "~2.1.4",
       "_view_module_version": "~2.1.4",
       "description": "Epoch 1: ",
       "layout": "IPY_MODEL_97968873e14d4bad947998df85e33feb",
       "max": 32383,
       "style": "IPY_MODEL_22d028842b0a4d4fa619efb2a6dd175d",
       "value": 32383
      }
     },
     "d25a1d01d4a440beb7f1f53a8ca9d8ff": {
      "model_module": "jupyter-js-widgets",
      "model_module_version": "~2.1.4",
      "model_name": "LayoutModel",
      "state": {
       "_model_module_version": "~2.1.4",
       "_view_module_version": "~2.1.4"
      }
     },
     "d2c0a43619a7498ebff208db93dd0cdc": {
      "model_module": "jupyter-js-widgets",
      "model_module_version": "~2.1.4",
      "model_name": "HTMLModel",
      "state": {
       "_model_module_version": "~2.1.4",
       "_view_module_version": "~2.1.4",
       "layout": "IPY_MODEL_d8ea78a63e0040cb984c0830e80bae2a",
       "value": "[loss: 0.133, acc: 0.948, val_loss: 0.130, val_acc: 0.949] 100% 32383/32383 [00:08&lt;00:00, 733.60it/s]"
      }
     },
     "d2f65c70b4db408f865642faa4c00eb6": {
      "model_module": "jupyter-js-widgets",
      "model_module_version": "~2.1.4",
      "model_name": "HBoxModel",
      "state": {
       "_model_module_version": "~2.1.4",
       "_view_module_version": "~2.1.4",
       "children": [
        "IPY_MODEL_18ded82375014bbf99cfb062286afec0",
        "IPY_MODEL_6cd831e7289749c6af6561fa7394c1fa"
       ],
       "layout": "IPY_MODEL_5c66374f215842699f858aca860ead63"
      }
     },
     "d53f998498944690a667e2a4290b7ca8": {
      "model_module": "jupyter-js-widgets",
      "model_module_version": "~2.1.4",
      "model_name": "ProgressModel",
      "state": {
       "_model_module_version": "~2.1.4",
       "_view_module_version": "~2.1.4",
       "description": "Epoch 6: ",
       "layout": "IPY_MODEL_283030c34afc495fb2aa38a8e485a05e",
       "max": 32383,
       "style": "IPY_MODEL_5d92da8fe1d546a7b812e94fb0566d29",
       "value": 32383
      }
     },
     "d56d034581684eadb0c6ecaff5966a9a": {
      "model_module": "jupyter-js-widgets",
      "model_module_version": "~2.1.4",
      "model_name": "LayoutModel",
      "state": {
       "_model_module_version": "~2.1.4",
       "_view_module_version": "~2.1.4"
      }
     },
     "d81b345d34b1454d896204fc03dc9e4e": {
      "model_module": "jupyter-js-widgets",
      "model_module_version": "~2.1.4",
      "model_name": "ProgressModel",
      "state": {
       "_model_module_version": "~2.1.4",
       "_view_module_version": "~2.1.4",
       "description": "Epoch 0: ",
       "layout": "IPY_MODEL_669b5dc4839d4fb3bc39bdbac2d3f87f",
       "max": 32383,
       "style": "IPY_MODEL_84c5ac5fe86f410097ae30465c893388",
       "value": 32383
      }
     },
     "d835228a15c7437ebbbd7eb3e1447a93": {
      "model_module": "jupyter-js-widgets",
      "model_module_version": "~2.1.4",
      "model_name": "LayoutModel",
      "state": {
       "_model_module_version": "~2.1.4",
       "_view_module_version": "~2.1.4"
      }
     },
     "d8588150348e480aaafbbd5ebe104084": {
      "model_module": "jupyter-js-widgets",
      "model_module_version": "~2.1.4",
      "model_name": "HTMLModel",
      "state": {
       "_model_module_version": "~2.1.4",
       "_view_module_version": "~2.1.4",
       "layout": "IPY_MODEL_8d0e2175f572463eaa56f4911141dab7",
       "value": "[loss: 0.143, acc: 0.943, val_loss: 0.135, val_acc: 0.947] 100% 32383/32383 [00:08&lt;00:00, 729.71it/s]"
      }
     },
     "d8ea78a63e0040cb984c0830e80bae2a": {
      "model_module": "jupyter-js-widgets",
      "model_module_version": "~2.1.4",
      "model_name": "LayoutModel",
      "state": {
       "_model_module_version": "~2.1.4",
       "_view_module_version": "~2.1.4"
      }
     },
     "d8f8aa10cf0e43f392bb51e1c1185cdf": {
      "model_module": "jupyter-js-widgets",
      "model_module_version": "~2.1.4",
      "model_name": "LayoutModel",
      "state": {
       "_model_module_version": "~2.1.4",
       "_view_module_version": "~2.1.4"
      }
     },
     "d9a81bfe3f834030907c18ee477bd741": {
      "model_module": "jupyter-js-widgets",
      "model_module_version": "~2.1.4",
      "model_name": "ProgressStyleModel",
      "state": {
       "_model_module_version": "~2.1.4",
       "_view_module_version": "~2.1.4"
      }
     },
     "da9e13680b4f4d8cb766b00515fa9afa": {
      "model_module": "jupyter-js-widgets",
      "model_module_version": "~2.1.4",
      "model_name": "LayoutModel",
      "state": {
       "_model_module_version": "~2.1.4",
       "_view_module_version": "~2.1.4"
      }
     },
     "dc2d3522991641ad8df2f2e1e4db4721": {
      "model_module": "jupyter-js-widgets",
      "model_module_version": "~2.1.4",
      "model_name": "HBoxModel",
      "state": {
       "_model_module_version": "~2.1.4",
       "_view_module_version": "~2.1.4",
       "children": [
        "IPY_MODEL_e563852161b447fa870f60a7c5bb4241",
        "IPY_MODEL_0d3f2a584a5f4c2193ebcffefae96ca4"
       ],
       "layout": "IPY_MODEL_3bef20e2640a4c8e808adace4e5d0603"
      }
     },
     "e05518c18132487ba207f35811186dda": {
      "model_module": "jupyter-js-widgets",
      "model_module_version": "~2.1.4",
      "model_name": "LayoutModel",
      "state": {
       "_model_module_version": "~2.1.4",
       "_view_module_version": "~2.1.4"
      }
     },
     "e1b70f6a182d412aba40e997a02963b0": {
      "model_module": "jupyter-js-widgets",
      "model_module_version": "~2.1.4",
      "model_name": "ProgressStyleModel",
      "state": {
       "_model_module_version": "~2.1.4",
       "_view_module_version": "~2.1.4"
      }
     },
     "e49e10371511456e969bd16025eb5636": {
      "model_module": "jupyter-js-widgets",
      "model_module_version": "~2.1.4",
      "model_name": "HBoxModel",
      "state": {
       "_model_module_version": "~2.1.4",
       "_view_module_version": "~2.1.4",
       "children": [
        "IPY_MODEL_a8eac21eda4f45d7bdb6fd7b80fc1989",
        "IPY_MODEL_f6523b087b5845639546f53bd34219de"
       ],
       "layout": "IPY_MODEL_59d1101d03994722a818e00d6900dab3"
      }
     },
     "e563852161b447fa870f60a7c5bb4241": {
      "model_module": "jupyter-js-widgets",
      "model_module_version": "~2.1.4",
      "model_name": "ProgressModel",
      "state": {
       "_model_module_version": "~2.1.4",
       "_view_module_version": "~2.1.4",
       "description": "Epoch 14: ",
       "layout": "IPY_MODEL_4f08d07a43424a0190b0fc7ae08b83ab",
       "max": 32383,
       "style": "IPY_MODEL_e1b70f6a182d412aba40e997a02963b0",
       "value": 32383
      }
     },
     "e5fab9833b1d46899ee808f812028e49": {
      "model_module": "jupyter-js-widgets",
      "model_module_version": "~2.1.4",
      "model_name": "ProgressStyleModel",
      "state": {
       "_model_module_version": "~2.1.4",
       "_view_module_version": "~2.1.4"
      }
     },
     "e897d3bebd65490b8ae9c543032497fc": {
      "model_module": "jupyter-js-widgets",
      "model_module_version": "~2.1.4",
      "model_name": "HTMLModel",
      "state": {
       "_model_module_version": "~2.1.4",
       "_view_module_version": "~2.1.4",
       "layout": "IPY_MODEL_eca1953f8c2f48d586c61fe6c75c517b",
       "value": "100% 20/20 [02:46&lt;00:00,  8.28s/it]"
      }
     },
     "ec991767ee8c44b2a1f45450e85ca653": {
      "model_module": "jupyter-js-widgets",
      "model_module_version": "~2.1.4",
      "model_name": "LayoutModel",
      "state": {
       "_model_module_version": "~2.1.4",
       "_view_module_version": "~2.1.4"
      }
     },
     "eca1953f8c2f48d586c61fe6c75c517b": {
      "model_module": "jupyter-js-widgets",
      "model_module_version": "~2.1.4",
      "model_name": "LayoutModel",
      "state": {
       "_model_module_version": "~2.1.4",
       "_view_module_version": "~2.1.4"
      }
     },
     "edbb9ab99c444a23a0b56539c8dc628b": {
      "model_module": "jupyter-js-widgets",
      "model_module_version": "~2.1.4",
      "model_name": "LayoutModel",
      "state": {
       "_model_module_version": "~2.1.4",
       "_view_module_version": "~2.1.4"
      }
     },
     "ee2b542140d247b2952cd63138a366db": {
      "model_module": "jupyter-js-widgets",
      "model_module_version": "~2.1.4",
      "model_name": "LayoutModel",
      "state": {
       "_model_module_version": "~2.1.4",
       "_view_module_version": "~2.1.4"
      }
     },
     "f1303e6df0d74fa4b4187b883a62a6d6": {
      "model_module": "jupyter-js-widgets",
      "model_module_version": "~2.1.4",
      "model_name": "LayoutModel",
      "state": {
       "_model_module_version": "~2.1.4",
       "_view_module_version": "~2.1.4"
      }
     },
     "f19e234095a54b0b9814cf0a48c397cb": {
      "model_module": "jupyter-js-widgets",
      "model_module_version": "~2.1.4",
      "model_name": "HTMLModel",
      "state": {
       "_model_module_version": "~2.1.4",
       "_view_module_version": "~2.1.4",
       "layout": "IPY_MODEL_4c0c23fb2f7b477688a46e7d464057df",
       "value": "[loss: 0.128, acc: 0.950, val_loss: 0.124, val_acc: 0.951] 100% 32383/32383 [00:08&lt;00:00, 731.17it/s]"
      }
     },
     "f6523b087b5845639546f53bd34219de": {
      "model_module": "jupyter-js-widgets",
      "model_module_version": "~2.1.4",
      "model_name": "HTMLModel",
      "state": {
       "_model_module_version": "~2.1.4",
       "_view_module_version": "~2.1.4",
       "layout": "IPY_MODEL_58aac1c1398543278ad8aad1c4fd2162",
       "value": "[loss: 0.127, acc: 0.950, val_loss: 0.123, val_acc: 0.952] 100% 32383/32383 [00:08&lt;00:00, 696.58it/s]"
      }
     },
     "f685f83247dd4473964d12a05460aa0d": {
      "model_module": "jupyter-js-widgets",
      "model_module_version": "~2.1.4",
      "model_name": "ProgressModel",
      "state": {
       "_model_module_version": "~2.1.4",
       "_view_module_version": "~2.1.4",
       "description": "Epoch 11: ",
       "layout": "IPY_MODEL_cd94c134b1ef4e10b70f86ecfa7808f3",
       "max": 32383,
       "style": "IPY_MODEL_e5fab9833b1d46899ee808f812028e49",
       "value": 32383
      }
     },
     "f891184e52414fdd881536d64a04421b": {
      "model_module": "jupyter-js-widgets",
      "model_module_version": "~2.1.4",
      "model_name": "ProgressModel",
      "state": {
       "_model_module_version": "~2.1.4",
       "_view_module_version": "~2.1.4",
       "description": "Epoch 17: ",
       "layout": "IPY_MODEL_070fc430dcc945bbb006f512e988641e",
       "max": 32383,
       "style": "IPY_MODEL_d9a81bfe3f834030907c18ee477bd741",
       "value": 32383
      }
     },
     "f902bbc0d34b4d80ade9784229f47607": {
      "model_module": "jupyter-js-widgets",
      "model_module_version": "~2.1.4",
      "model_name": "LayoutModel",
      "state": {
       "_model_module_version": "~2.1.4",
       "_view_module_version": "~2.1.4"
      }
     },
     "fd0ff17db4b54fc9bd5f52a4b4e8ce31": {
      "model_module": "jupyter-js-widgets",
      "model_module_version": "~2.1.4",
      "model_name": "HTMLModel",
      "state": {
       "_model_module_version": "~2.1.4",
       "_view_module_version": "~2.1.4",
       "layout": "IPY_MODEL_5546493555214b5ca2d77abccb0652e1",
       "value": "[loss: 0.154, acc: 0.939, val_loss: 0.144, val_acc: 0.942] 100% 32383/32383 [00:08&lt;00:00, 714.85it/s]"
      }
     },
     "fd452093d5ff4f1f9d7564429a7a4dea": {
      "model_module": "jupyter-js-widgets",
      "model_module_version": "~2.1.4",
      "model_name": "LayoutModel",
      "state": {
       "_model_module_version": "~2.1.4",
       "_view_module_version": "~2.1.4"
      }
     },
     "ffd4cb2874694c5393d312039f1f8521": {
      "model_module": "jupyter-js-widgets",
      "model_module_version": "~2.1.4",
      "model_name": "ProgressStyleModel",
      "state": {
       "_model_module_version": "~2.1.4",
       "_view_module_version": "~2.1.4"
      }
     }
    },
    "version_major": 1,
    "version_minor": 0
   }
  }
 },
 "nbformat": 4,
 "nbformat_minor": 2
}
